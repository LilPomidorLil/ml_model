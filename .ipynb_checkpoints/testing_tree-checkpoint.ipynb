{
 "cells": [
  {
   "cell_type": "code",
   "execution_count": 1,
   "id": "848f1193",
   "metadata": {},
   "outputs": [],
   "source": [
    "from boosting import GBRegressor\n",
    "from tree import TreeRegressor\n",
    "import numpy as np\n",
    "from sklearn.datasets import fetch_california_housing\n",
    "from sklearn.model_selection import train_test_split\n",
    "from utils import save_model, open_model\n",
    "from sklearn.metrics import mean_squared_error as mse\n"
   ]
  },
  {
   "cell_type": "code",
   "execution_count": 6,
   "id": "28f63c62",
   "metadata": {},
   "outputs": [],
   "source": [
    "data = fetch_california_housing()\n",
    "x= data.data[:10000]\n",
    "y = data.target[:10000]\n",
    "x_train, x_test, y_train, y_test = train_test_split(x, y, test_size=0.2, random_state=1337)\n",
    "\n",
    "x_test, x_valid, y_test, y_valid = train_test_split(x_test, y_test, test_size=0.5, random_state=1337)"
   ]
  },
  {
   "cell_type": "code",
   "execution_count": 23,
   "id": "86b58cd3",
   "metadata": {},
   "outputs": [],
   "source": [
    "model = GBRegressor(TreeRegressor, \n",
    "                    learning_rate=0.1,\n",
    "                    base_model_params={'max_depth': 3}, \n",
    "                    n_estimators=100,\n",
    "                    randomization=False,\n",
    "                    subsample=0.3,\n",
    "                    random_seed=None,\n",
    "                    use_best_model=True)"
   ]
  },
  {
   "cell_type": "code",
   "execution_count": null,
   "id": "cfe2654e",
   "metadata": {},
   "outputs": [],
   "source": [
    "class GradientBoosting():\n",
    "    \n",
    "    def __init__(self, n_estimators=100, learning_rate=0.1, max_depth=3, \n",
    "                 random_state=17, n_samples = 15, min_size = 5, base_tree='Bagging'):\n",
    "            \n",
    "        self.n_estimators = n_estimators\n",
    "        self.max_depth = max_depth\n",
    "        self.learning_rate = learning_rate\n",
    "        self.initialization = lambda y: np.mean(y) * np.ones([y.shape[0]])\n",
    "        self.min_size = min_size\n",
    "        self.loss_by_iter = []\n",
    "        self.trees_ = []\n",
    "        self.loss_by_iter_test = []\n",
    "        self.n_samples = n_samples\n",
    "        self.base_tree = base_tree\n",
    "\n",
    "    \n",
    "    def fit(self, X, y):\n",
    "        self.X = X\n",
    "        self.y = y\n",
    "        b = self.initialization(y)\n",
    "        \n",
    "        prediction = b.copy()\n",
    "        \n",
    "        for t in tqdm_notebook(range(self.n_estimators)):               \n",
    "            \n",
    "            if t == 0:\n",
    "                resid = y\n",
    "            else:\n",
    "                # сразу пишем антиградиент\n",
    "                resid = (y - prediction)\n",
    "            \n",
    "            # выбираем базовый алгор            \n",
    "            if self.base_tree == 'Tree':\n",
    "                tree = TreeRegressor(max_depth=self.max_depth)\n",
    "                \n",
    "            # обучаемся на векторе антиградиента\n",
    "            tree.fit(X, resid)\n",
    "            # делаем предикт и добавляем алгоритм к ансамблю\n",
    "            b = tree.predict(X).reshape([X.shape[0]])\n",
    "            self.trees_.append(tree)\n",
    "            prediction += self.learning_rate * b\n",
    "            # добавляем только если не первая итерация\n",
    "            if t > 0:\n",
    "                self.loss_by_iter.append(mse(y,prediction))\n",
    "                   \n",
    "        return self\n",
    "    \n",
    "    def predict(self, X):\n",
    "        \n",
    "        # сначала прогноз – это просто вектор из средних значений ответов на обучении\n",
    "        pred = np.ones([X.shape[0]]) * np.mean(self.y)\n",
    "        # добавляем прогнозы деревьев\n",
    "        for t in range(self.n_estimators):\n",
    "            pred += self.learning_rate * self.trees_[t].predict(X).reshape([X.shape[0]])\n",
    "            \n",
    "        return pred"
   ]
  },
  {
   "cell_type": "code",
   "execution_count": null,
   "id": "cdb4efb6",
   "metadata": {},
   "outputs": [],
   "source": []
  },
  {
   "cell_type": "code",
   "execution_count": null,
   "id": "ed53caf9",
   "metadata": {},
   "outputs": [],
   "source": []
  }
 ],
 "metadata": {
  "kernelspec": {
   "display_name": "Python 3",
   "language": "python",
   "name": "python3"
  },
  "language_info": {
   "codemirror_mode": {
    "name": "ipython",
    "version": 3
   },
   "file_extension": ".py",
   "mimetype": "text/x-python",
   "name": "python",
   "nbconvert_exporter": "python",
   "pygments_lexer": "ipython3",
   "version": "3.8.8"
  },
  "toc": {
   "base_numbering": 1,
   "nav_menu": {},
   "number_sections": true,
   "sideBar": true,
   "skip_h1_title": false,
   "title_cell": "Table of Contents",
   "title_sidebar": "Contents",
   "toc_cell": false,
   "toc_position": {},
   "toc_section_display": true,
   "toc_window_display": false
  }
 },
 "nbformat": 4,
 "nbformat_minor": 5
}
