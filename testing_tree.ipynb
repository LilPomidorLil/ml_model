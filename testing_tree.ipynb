{
 "cells": [
  {
   "cell_type": "code",
   "execution_count": 9,
   "id": "1a28c378",
   "metadata": {},
   "outputs": [],
   "source": [
    "from ensemble import BaggingTreeAdaptive\n",
    "from tree import TreeRegressorAdaptive\n",
    "from utils import open_model, save_model\n",
    "from sklearn.datasets import fetch_california_housing\n",
    "import numpy as np\n",
    "from sklearn.metrics import mean_squared_error as mse"
   ]
  },
  {
   "cell_type": "code",
   "execution_count": 2,
   "id": "16fd833a",
   "metadata": {},
   "outputs": [],
   "source": [
    "data = fetch_california_housing()\n",
    "X = data.data[:10000]\n",
    "y = data.target[:10000]"
   ]
  },
  {
   "cell_type": "code",
   "execution_count": 10,
   "id": "31860a61",
   "metadata": {},
   "outputs": [],
   "source": [
    "model = BaggingTreeAdaptive(TreeRegressorAdaptive, 100, 6, 1, 1)"
   ]
  },
  {
   "cell_type": "code",
   "execution_count": 11,
   "id": "a01c3f62",
   "metadata": {},
   "outputs": [
    {
     "data": {
      "text/plain": [
       "BaggingTreeAdaptive(base_model=<class 'tree._classes.TreeRegressorAdaptive'>,\n",
       "                    max_depth=6, min_samples_leaf=1, min_samples_split=1,\n",
       "                    n_estimators=100)"
      ]
     },
     "execution_count": 11,
     "metadata": {},
     "output_type": "execute_result"
    }
   ],
   "source": [
    "model.fit(X, y)"
   ]
  },
  {
   "cell_type": "code",
   "execution_count": 12,
   "id": "664ecd31",
   "metadata": {},
   "outputs": [],
   "source": [
    "save_model(model, 'adaptive')"
   ]
  },
  {
   "cell_type": "code",
   "execution_count": 13,
   "id": "f99cab18",
   "metadata": {},
   "outputs": [
    {
     "data": {
      "text/plain": [
       "array([4.28806755, 4.06843885, 3.69505455, ..., 1.25654854, 1.12509141,\n",
       "       1.0100778 ])"
      ]
     },
     "execution_count": 13,
     "metadata": {},
     "output_type": "execute_result"
    }
   ],
   "source": [
    "model.predict(X)"
   ]
  },
  {
   "cell_type": "code",
   "execution_count": null,
   "id": "ae9aeb24",
   "metadata": {},
   "outputs": [],
   "source": []
  }
 ],
 "metadata": {
  "kernelspec": {
   "display_name": "Python 3",
   "language": "python",
   "name": "python3"
  },
  "language_info": {
   "codemirror_mode": {
    "name": "ipython",
    "version": 3
   },
   "file_extension": ".py",
   "mimetype": "text/x-python",
   "name": "python",
   "nbconvert_exporter": "python",
   "pygments_lexer": "ipython3",
   "version": "3.8.8"
  },
  "toc": {
   "base_numbering": 1,
   "nav_menu": {},
   "number_sections": true,
   "sideBar": true,
   "skip_h1_title": false,
   "title_cell": "Table of Contents",
   "title_sidebar": "Contents",
   "toc_cell": false,
   "toc_position": {},
   "toc_section_display": true,
   "toc_window_display": false
  }
 },
 "nbformat": 4,
 "nbformat_minor": 5
}
