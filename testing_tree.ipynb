{
 "cells": [
  {
   "cell_type": "code",
   "execution_count": null,
   "id": "82f316ce",
   "metadata": {},
   "outputs": [],
   "source": [
    "from boosting import GBRegressor\n",
    "from ensemble import BaggingTree\n",
    "from tree import TreeRegressor\n",
    "from sklearn.datasets import fetch_california_housing\n",
    "from sklearn.model_selection import train_test_split\n",
    "from sklearn.metrics import mean_squared_error as mse\n",
    "from sklearn.model_selection import GridSearchCV\n",
    "import sklearn\n",
    "import pandas as pd"
   ]
  },
  {
   "cell_type": "code",
   "execution_count": null,
   "id": "c2993a2f",
   "metadata": {},
   "outputs": [],
   "source": [
    "data = fetch_california_housing()\n",
    "x = data.data[:10000]\n",
    "y = data.target[:10000]\n",
    "\n",
    "x_train, x_test, y_train, y_test = train_test_split(x, y, test_size=0.2, random_state=1337)\n",
    "\n",
    "x_test, x_valid, y_test, y_valid = train_test_split(x_test, y_test, test_size=0.5, random_state=1337)"
   ]
  },
  {
   "cell_type": "code",
   "execution_count": null,
   "id": "07bd3042",
   "metadata": {},
   "outputs": [],
   "source": [
    "model = GBRegressor(base_model_params={'max_depth': 3}, \n",
    "                    n_estimators=500, \n",
    "                    learning_rate = 0.09, \n",
    "                    show_tqdm = True, \n",
    "                    custom_loss='log_mse')"
   ]
  },
  {
   "cell_type": "code",
   "execution_count": null,
   "id": "9af78cb7",
   "metadata": {},
   "outputs": [],
   "source": [
    "model.fit(x_train, y_train, x_valid, y_valid)"
   ]
  },
  {
   "cell_type": "code",
   "execution_count": null,
   "id": "346e185e",
   "metadata": {},
   "outputs": [],
   "source": [
    "df = pd.read_csv('DataFrame_after_preprocessing.csv')\n",
    "df = df.drop(df.columns[21:], axis = 1)\n",
    "df.price = df.price.apply(lambda x: x.replace(' ', ''))\n",
    "df = df[df.price.astype(int) < 50000]\n",
    "df = df[df.price.astype(int) > 1000]\n",
    "X_train, X_test, y_train, y_test = train_test_split(df.drop(['price'], axis = 1), df['price'], random_state = 42, train_size = 0.8)"
   ]
  },
  {
   "cell_type": "code",
   "execution_count": null,
   "id": "596c59d8",
   "metadata": {},
   "outputs": [],
   "source": [
    "%%time\n",
    "model = BaggingTree(n_estimators=100, max_depth = 20)\n",
    "model.fit(X_train, y_train)"
   ]
  },
  {
   "cell_type": "code",
   "execution_count": null,
   "id": "bada2f49",
   "metadata": {},
   "outputs": [],
   "source": [
    "mse(y_test, model.predict(X_test))"
   ]
  },
  {
   "cell_type": "code",
   "execution_count": null,
   "id": "d81edb81",
   "metadata": {},
   "outputs": [],
   "source": [
    "y_train"
   ]
  },
  {
   "cell_type": "code",
   "execution_count": 1,
   "id": "15e1e8c7",
   "metadata": {},
   "outputs": [],
   "source": [
    "from boosting import xgBoost"
   ]
  },
  {
   "cell_type": "code",
   "execution_count": 2,
   "id": "a7b4747b",
   "metadata": {},
   "outputs": [],
   "source": [
    "model = xgBoost()"
   ]
  },
  {
   "cell_type": "code",
   "execution_count": 4,
   "id": "938945aa",
   "metadata": {},
   "outputs": [
    {
     "data": {
      "text/plain": [
       "{'max_depth': 2,\n",
       " 'min_samples_leaf': 1,\n",
       " 'min_samples_split': 1,\n",
       " 'lmd': 0.1,\n",
       " 'gmm': 100.0}"
      ]
     },
     "execution_count": 4,
     "metadata": {},
     "output_type": "execute_result"
    }
   ],
   "source": [
    "model.base_model_params"
   ]
  },
  {
   "cell_type": "code",
   "execution_count": null,
   "id": "d01b3dd3",
   "metadata": {},
   "outputs": [],
   "source": []
  }
 ],
 "metadata": {
  "kernelspec": {
   "display_name": "Python 3",
   "language": "python",
   "name": "python3"
  },
  "language_info": {
   "codemirror_mode": {
    "name": "ipython",
    "version": 3
   },
   "file_extension": ".py",
   "mimetype": "text/x-python",
   "name": "python",
   "nbconvert_exporter": "python",
   "pygments_lexer": "ipython3",
   "version": "3.8.8"
  },
  "toc": {
   "base_numbering": 1,
   "nav_menu": {},
   "number_sections": true,
   "sideBar": true,
   "skip_h1_title": false,
   "title_cell": "Table of Contents",
   "title_sidebar": "Contents",
   "toc_cell": false,
   "toc_position": {},
   "toc_section_display": true,
   "toc_window_display": false
  }
 },
 "nbformat": 4,
 "nbformat_minor": 5
}
