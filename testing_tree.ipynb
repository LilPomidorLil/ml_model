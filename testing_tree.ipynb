{
 "cells": [
  {
   "cell_type": "code",
   "execution_count": 3,
   "id": "1a28c378",
   "metadata": {},
   "outputs": [],
   "source": [
    "from ensemble import BaggingTree, BaggingTreeAdaptive\n",
    "from tree import TreeRegressor, TreeRegressorAdaptive\n",
    "from tree import compute_biase_variance\n",
    "from sklearn.datasets import fetch_california_housing\n",
    "import numpy as np\n",
    "from sklearn.metrics import mean_squared_error as mse"
   ]
  },
  {
   "cell_type": "code",
   "execution_count": 2,
   "id": "16fd833a",
   "metadata": {},
   "outputs": [],
   "source": [
    "data = fetch_california_housing()\n",
    "X = data.data[:100]\n",
    "y = data.target[:100]"
   ]
  },
  {
   "cell_type": "code",
   "execution_count": null,
   "id": "50584031",
   "metadata": {},
   "outputs": [],
   "source": [
    "dt = TreeRegressor(10, 1, 1)\n",
    "bg = BaggingTree(TreeRegressor, 100, 10, 1, 1)\n",
    "dt.fit(X, y)\n",
    "bg.fit(X, y)\n",
    "print(f\"MSE NOT BAGGING: {mse(y, dt.predict(X))}\")\n",
    "print(f\"MSE BAGGING: {mse(y, bg.predict(X))}\")"
   ]
  },
  {
   "cell_type": "code",
   "execution_count": 22,
   "id": "5d4cc470",
   "metadata": {},
   "outputs": [],
   "source": [
    "bag = BaggingTreeAdaptive(TreeRegressorAdaptive, 10, 10, 1, 1, randomization='sum', n_combinations=5)"
   ]
  },
  {
   "cell_type": "code",
   "execution_count": 23,
   "id": "80e8c4b8",
   "metadata": {},
   "outputs": [
    {
     "data": {
      "text/plain": [
       "BaggingTreeAdaptive(base_model=<class 'tree._classes.TreeRegressorAdaptive'>,\n",
       "                    max_depth=10, min_samples_leaf=1, min_samples_split=1,\n",
       "                    n_combinations=5, n_estimators=10)"
      ]
     },
     "execution_count": 23,
     "metadata": {},
     "output_type": "execute_result"
    }
   ],
   "source": [
    "bag.fit(X, y)"
   ]
  },
  {
   "cell_type": "code",
   "execution_count": 17,
   "id": "e2c62b23",
   "metadata": {},
   "outputs": [
    {
     "data": {
      "text/plain": [
       "100"
      ]
     },
     "execution_count": 17,
     "metadata": {},
     "output_type": "execute_result"
    }
   ],
   "source": []
  },
  {
   "cell_type": "code",
   "execution_count": null,
   "id": "56dd7ccb",
   "metadata": {},
   "outputs": [],
   "source": []
  }
 ],
 "metadata": {
  "kernelspec": {
   "display_name": "Python 3",
   "language": "python",
   "name": "python3"
  },
  "language_info": {
   "codemirror_mode": {
    "name": "ipython",
    "version": 3
   },
   "file_extension": ".py",
   "mimetype": "text/x-python",
   "name": "python",
   "nbconvert_exporter": "python",
   "pygments_lexer": "ipython3",
   "version": "3.8.8"
  },
  "toc": {
   "base_numbering": 1,
   "nav_menu": {},
   "number_sections": true,
   "sideBar": true,
   "skip_h1_title": false,
   "title_cell": "Table of Contents",
   "title_sidebar": "Contents",
   "toc_cell": false,
   "toc_position": {},
   "toc_section_display": true,
   "toc_window_display": false
  }
 },
 "nbformat": 4,
 "nbformat_minor": 5
}
