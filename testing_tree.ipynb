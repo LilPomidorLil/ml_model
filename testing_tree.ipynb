{
 "cells": [
  {
   "cell_type": "code",
   "execution_count": 46,
   "id": "5a9a8fe0",
   "metadata": {},
   "outputs": [],
   "source": [
    "from sklearn.datasets import fetch_california_housing\n",
    "from sklearn.model_selection import GridSearchCV\n",
    "import numpy as np\n",
    "from sklearn.metrics import mean_squared_error as mse\n",
    "from tree import TreeRegressorAdaptive, TreeRegressor, compute_biase_variance\n",
    "from sklearn.tree import DecisionTreeRegressor\n",
    "from sklearn.ensemble import RandomForestRegressor\n",
    "from itertools import combinations"
   ]
  },
  {
   "cell_type": "code",
   "execution_count": 2,
   "id": "1f26d2b0",
   "metadata": {},
   "outputs": [],
   "source": [
    "data = fetch_california_housing()\n",
    "X = data.data[:14000]\n",
    "y = data.target[:14000]"
   ]
  },
  {
   "cell_type": "code",
   "execution_count": 48,
   "id": "5f954796",
   "metadata": {},
   "outputs": [
    {
     "data": {
      "text/plain": [
       "RandomForestRegressor()"
      ]
     },
     "execution_count": 48,
     "metadata": {},
     "output_type": "execute_result"
    }
   ],
   "source": [
    "dta = TreeRegressorAdaptive(max_depth = 8, adaptive = True, n_combinations = 4, randomization='sum')\n",
    "dt = TreeRegressor(max_depth = 8)\n",
    "dts = DecisionTreeRegressor(max_depth = 8)\n",
    "rfr = RandomForestRegressor()\n",
    "rfr.fit(X, y)"
   ]
  },
  {
   "cell_type": "code",
   "execution_count": 45,
   "id": "62c5abfe",
   "metadata": {},
   "outputs": [
    {
     "name": "stdout",
     "output_type": "stream",
     "text": [
      "Bias: 0.2586296008042948, Varience 0.09717758732159126, Error: 0.35312134904719694\n",
      "Bias: 0.258792267992826, Varience 0.09955863392502509, Error: 0.35558901919517083\n",
      "Bias: 0.257680080356988, Varience 0.10089424113213978, Error: 0.3557685200079697\n"
     ]
    }
   ],
   "source": [
    "models = [dta, dt, dts]\n",
    "for model in models:\n",
    "    print(\"Bias: {0}, Varience {1}, Error: {2}\".format(*compute_biase_variance(model, X, y)))"
   ]
  },
  {
   "cell_type": "code",
   "execution_count": 27,
   "id": "45369f4a",
   "metadata": {},
   "outputs": [
    {
     "name": "stdout",
     "output_type": "stream",
     "text": [
      "MSE: 0.48115085554780945\n",
      "MSE ADAPTIVE: 0.48098137239333855\n",
      "MSE SKLEARN: 0.47966910270097324\n"
     ]
    }
   ],
   "source": [
    "print(f\"MSE: {mse(y, dt.predict(X))}\")\n",
    "print(f\"MSE ADAPTIVE: {mse(y, dta.predict(X))}\")\n",
    "print(f\"MSE SKLEARN: {mse(y, dts.predict(X))}\")\n",
    "print(f\"RANDOMFORES\")"
   ]
  },
  {
   "cell_type": "code",
   "execution_count": null,
   "id": "8b601eaa",
   "metadata": {},
   "outputs": [],
   "source": []
  }
 ],
 "metadata": {
  "kernelspec": {
   "display_name": "Python 3",
   "language": "python",
   "name": "python3"
  },
  "language_info": {
   "codemirror_mode": {
    "name": "ipython",
    "version": 3
   },
   "file_extension": ".py",
   "mimetype": "text/x-python",
   "name": "python",
   "nbconvert_exporter": "python",
   "pygments_lexer": "ipython3",
   "version": "3.8.8"
  },
  "toc": {
   "base_numbering": 1,
   "nav_menu": {},
   "number_sections": true,
   "sideBar": true,
   "skip_h1_title": false,
   "title_cell": "Table of Contents",
   "title_sidebar": "Contents",
   "toc_cell": false,
   "toc_position": {},
   "toc_section_display": true,
   "toc_window_display": false
  }
 },
 "nbformat": 4,
 "nbformat_minor": 5
}
