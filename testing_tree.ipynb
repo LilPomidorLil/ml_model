{
 "cells": [
  {
   "cell_type": "code",
   "execution_count": 1,
   "id": "597f154c",
   "metadata": {},
   "outputs": [],
   "source": [
    "from boosting import GBRegressor\n",
    "from sklearn.datasets import fetch_california_housing\n",
    "from sklearn.model_selection import train_test_split\n",
    "from sklearn.metrics import mean_squared_error as mse\n",
    "import numpy as np\n",
    "import pandas as pd"
   ]
  },
  {
   "cell_type": "code",
   "execution_count": 2,
   "id": "08a61f42",
   "metadata": {},
   "outputs": [],
   "source": [
    "model = GBRegressor(base_model_params={'max_depth': 6, 'min_samples_leaf': 2},\n",
    "                    n_estimators = 1000, \n",
    "                    learning_rate=0.1,\n",
    "                    use_best_model=True,\n",
    "                    randomization=False,\n",
    "                    custom_loss='huber')"
   ]
  },
  {
   "cell_type": "code",
   "execution_count": 3,
   "id": "a03af7dc",
   "metadata": {},
   "outputs": [],
   "source": [
    "data = fetch_california_housing()\n",
    "x = data.data[:1000]\n",
    "y = data.target[:1000]\n",
    "x_train, x_test, y_train, y_test = train_test_split(x, y, test_size=0.2, random_state=1337)\n",
    "\n",
    "x_test, x_valid, y_test, y_valid = train_test_split(x_test, y_test, test_size=0.5, random_state=1337)"
   ]
  },
  {
   "cell_type": "code",
   "execution_count": null,
   "id": "5250c678",
   "metadata": {},
   "outputs": [
    {
     "name": "stderr",
     "output_type": "stream",
     "text": [
      " 90%|███████████████████████████████████████████████████████████████████████▍       | 904/1000 [01:47<00:19,  4.87it/s]"
     ]
    }
   ],
   "source": [
    "%%time\n",
    "model.fit(x_train, y_train, x_valid, y_valid)"
   ]
  },
  {
   "cell_type": "code",
   "execution_count": 39,
   "id": "0aa92839",
   "metadata": {},
   "outputs": [
    {
     "data": {
      "text/plain": [
       "array([2.27291268, 3.72289295, 1.82970131, 2.40644755, 1.36034479,\n",
       "       2.15129646, 2.31372654, 2.37342026, 1.72126774, 1.96228399])"
      ]
     },
     "execution_count": 39,
     "metadata": {},
     "output_type": "execute_result"
    }
   ],
   "source": [
    "model.predict(x_test)[:10]"
   ]
  },
  {
   "cell_type": "code",
   "execution_count": 28,
   "id": "464afd7f",
   "metadata": {},
   "outputs": [
    {
     "data": {
      "text/plain": [
       "array([2.47   , 3.711  , 2.109  , 2.135  , 5.00001, 1.909  , 2.25   ,\n",
       "       2.685  , 1.75   , 2.138  ])"
      ]
     },
     "execution_count": 28,
     "metadata": {},
     "output_type": "execute_result"
    }
   ],
   "source": [
    "y_test[:10]"
   ]
  },
  {
   "cell_type": "code",
   "execution_count": 5,
   "id": "8abde9db",
   "metadata": {},
   "outputs": [
    {
     "data": {
      "text/plain": [
       "1"
      ]
     },
     "execution_count": 5,
     "metadata": {},
     "output_type": "execute_result"
    }
   ],
   "source": [
    "np.abs(-1)"
   ]
  },
  {
   "cell_type": "code",
   "execution_count": null,
   "id": "5ee3c6d9",
   "metadata": {},
   "outputs": [],
   "source": []
  }
 ],
 "metadata": {
  "kernelspec": {
   "display_name": "Python 3",
   "language": "python",
   "name": "python3"
  },
  "language_info": {
   "codemirror_mode": {
    "name": "ipython",
    "version": 3
   },
   "file_extension": ".py",
   "mimetype": "text/x-python",
   "name": "python",
   "nbconvert_exporter": "python",
   "pygments_lexer": "ipython3",
   "version": "3.8.8"
  },
  "toc": {
   "base_numbering": 1,
   "nav_menu": {},
   "number_sections": true,
   "sideBar": true,
   "skip_h1_title": false,
   "title_cell": "Table of Contents",
   "title_sidebar": "Contents",
   "toc_cell": false,
   "toc_position": {},
   "toc_section_display": true,
   "toc_window_display": false
  }
 },
 "nbformat": 4,
 "nbformat_minor": 5
}
