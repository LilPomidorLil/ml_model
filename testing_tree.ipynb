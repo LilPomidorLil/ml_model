{
 "cells": [
  {
   "cell_type": "code",
   "execution_count": 5,
   "id": "d137a475",
   "metadata": {},
   "outputs": [],
   "source": [
    "from boosting import GBRegressor\n",
    "from sklearn.datasets import fetch_california_housing\n",
    "from sklearn.model_selection import train_test_split\n",
    "from sklearn.metrics import mean_squared_error as mse"
   ]
  },
  {
   "cell_type": "code",
   "execution_count": 2,
   "id": "63ef101f",
   "metadata": {},
   "outputs": [],
   "source": [
    "data = fetch_california_housing()\n",
    "x = data.data[:1000]\n",
    "y = data.target[:1000]\n",
    "x_train, x_test, y_train, y_test = train_test_split(x, y, test_size=0.2, random_state=1337)\n",
    "\n",
    "x_test, x_valid, y_test, y_valid = train_test_split(x_test, y_test, test_size=0.5, random_state=1337)"
   ]
  },
  {
   "cell_type": "code",
   "execution_count": 29,
   "id": "b0b5328a",
   "metadata": {},
   "outputs": [],
   "source": [
    "model = GBRegressor(n_estimators=1000, randomization=True, learning_rate=0.01)"
   ]
  },
  {
   "cell_type": "code",
   "execution_count": null,
   "id": "bcb4fc85",
   "metadata": {},
   "outputs": [
    {
     "name": "stderr",
     "output_type": "stream",
     "text": [
      " 96%|███████████████████████████████████████████████████████████████████████████▊   | 960/1000 [02:47<00:12,  3.23it/s]"
     ]
    }
   ],
   "source": [
    "model.fit(x_train, y_train, x_valid, y_valid)"
   ]
  },
  {
   "cell_type": "code",
   "execution_count": 28,
   "id": "0e9d8e12",
   "metadata": {},
   "outputs": [
    {
     "data": {
      "text/plain": [
       "0.16554359590070242"
      ]
     },
     "execution_count": 28,
     "metadata": {},
     "output_type": "execute_result"
    }
   ],
   "source": [
    "mse(y_test, model.predict(x_test))"
   ]
  },
  {
   "cell_type": "code",
   "execution_count": null,
   "id": "1600f555",
   "metadata": {},
   "outputs": [],
   "source": [
    "plt.plot(range(1, 1000), model.history['valid'])\n",
    "plt.plot(range(1, 1000), model.history['train'])"
   ]
  },
  {
   "cell_type": "code",
   "execution_count": 25,
   "id": "45d7c90c",
   "metadata": {},
   "outputs": [
    {
     "data": {
      "text/plain": [
       "[<matplotlib.lines.Line2D at 0x204db72b850>]"
      ]
     },
     "execution_count": 25,
     "metadata": {},
     "output_type": "execute_result"
    },
    {
     "data": {
      "image/png": "[encoded data removed]",
      "text/plain": [
       "<Figure size 432x288 with 1 Axes>"
      ]
     },
     "metadata": {
      "needs_background": "light"
     },
     "output_type": "display_data"
    }
   ],
   "source": [
    "import matplotlib.pyplot as plt\n",
    "plt.plot(range(1, 1000), model.history['valid'])\n",
    "plt.plot(range(1, 1000), model.history['train'])"
   ]
  },
  {
   "cell_type": "code",
   "execution_count": 26,
   "id": "6f0ca6b4",
   "metadata": {},
   "outputs": [],
   "source": [
    "from utils import save_model\n",
    "save_model(model, 'pre-train')"
   ]
  },
  {
   "cell_type": "code",
   "execution_count": null,
   "id": "3ef0fc9d",
   "metadata": {},
   "outputs": [],
   "source": []
  }
 ],
 "metadata": {
  "kernelspec": {
   "display_name": "Python 3",
   "language": "python",
   "name": "python3"
  },
  "language_info": {
   "codemirror_mode": {
    "name": "ipython",
    "version": 3
   },
   "file_extension": ".py",
   "mimetype": "text/x-python",
   "name": "python",
   "nbconvert_exporter": "python",
   "pygments_lexer": "ipython3",
   "version": "3.8.8"
  },
  "toc": {
   "base_numbering": 1,
   "nav_menu": {},
   "number_sections": true,
   "sideBar": true,
   "skip_h1_title": false,
   "title_cell": "Table of Contents",
   "title_sidebar": "Contents",
   "toc_cell": false,
   "toc_position": {},
   "toc_section_display": true,
   "toc_window_display": false
  }
 },
 "nbformat": 4,
 "nbformat_minor": 5
}
